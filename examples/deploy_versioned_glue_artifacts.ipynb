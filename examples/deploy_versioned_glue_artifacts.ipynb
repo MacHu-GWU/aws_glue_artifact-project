{
 "cells": [
  {
   "cell_type": "markdown",
   "id": "725ef198-6a0b-489c-bf17-de791ff3ba0a",
   "metadata": {},
   "source": [
    "# Deploy Versioned Glue Artifact\n",
    "\n",
    "A lot of serverless AWS Service supports versioning and alias for deployment. It made the blue / green deployment, canary deployment and rolling back super easy.\n",
    "\n",
    "- AWS Lambda Versioning and Alias: https://docs.aws.amazon.com/lambda/latest/dg/configuration-versions.html\n",
    "- AWS StepFunction Versioning and Alias: https://docs.aws.amazon.com/step-functions/latest/dg/auth-version-alias.html\n",
    "- AWS SageMaker Model Registry Versioning: https://docs.aws.amazon.com/sagemaker/latest/dg/model-registry.html\n",
    "\n",
    "However, AWS Glue does not support this feature. This library provides a way to manage AWS Glue versioning and alias so you can deploy AWS Glue Jobs with confident.\n",
    "\n",
    "## Overview\n",
    "\n",
    "An AWS Glue Jobs project usually have the following code components:\n",
    "\n",
    "1. (Required) One or several AWS Glue ETL Python script.\n",
    "2. (Optional) One Python Library that will be imported into Glue ETL script to use. It usually includes the reusable code snippet to keep your code organized.\n",
    "3. (Optional) Additional third party Python library that will be used in your Glue ETL script.\n",
    "\n",
    "According to this [AWS official document](https://docs.aws.amazon.com/glue/latest/dg/aws-glue-programming-python-libraries.html), #3 can be defined ``--additional-python-modules`` parameter and you don't have to upload anything. Since #2 is custom code, you have to zip it and upload to s3 and use ``--extra-py-files`` parameter to import it. And #1 has to upload to S3 and then pass to ``ScriptLocation`` parameter when you create the Glue job via API or CloudFormation.\n",
    "\n",
    "The ``aws_glue_artifact`` library can help you manage #1 and #2 and bring in versioning and alias best practice to help with the deployment.\n"
   ]
  },
  {
   "cell_type": "markdown",
   "id": "598bd2b7-9f37-4f0f-a678-d0a2d59b248a",
   "metadata": {},
   "source": [
    "## Quick Start\n",
    "\n",
    "First, import the ``GlueETLScriptArtifact`` and ``GluePythonLibArtifact`` from ``aws_glue_artifact.api``. The ``GlueETLScriptArtifact`` is an abstraction of #1 and ``GluePythonLibArtifact`` is an abstraction of #2. Also, we need to import the ``BotoSesManager`` object to give our artifact manager AWS permission. In this example, you need AWS S3 and AWS DynamoDB permission."
   ]
  },
  {
   "cell_type": "code",
   "execution_count": 23,
   "id": "123f7dbe-8601-47e0-a3c1-6b493a5b0226",
   "metadata": {},
   "outputs": [],
   "source": [
    "from aws_glue_artifact.api import GlueETLScriptArtifact, GluePythonLibArtifact\n",
    "from boto_session_manager import BotoSesManager"
   ]
  },
  {
   "cell_type": "markdown",
   "id": "797cab5d-aa1a-4483-a2b7-ab8f4d1db2e6",
   "metadata": {},
   "source": [
    "We need to import additional library to improve our development experience"
   ]
  },
  {
   "cell_type": "code",
   "execution_count": 24,
   "id": "250e42cc-6f2f-4b49-9154-9130af0a28e8",
   "metadata": {},
   "outputs": [],
   "source": [
    "# define the Path to the artifact files\n",
    "from pathlib import Path\n",
    "# pretty printer for debugging\n",
    "from rich import print as rprint"
   ]
  },
  {
   "cell_type": "markdown",
   "id": "c542652f-bbce-4eb1-8129-3b39aa4650e2",
   "metadata": {},
   "source": [
    "First, let's use a local AWS CLI profile to create the boto session manager object."
   ]
  },
  {
   "cell_type": "code",
   "execution_count": 25,
   "id": "14a445ce-859d-4b32-a7c5-7f213a9ff736",
   "metadata": {},
   "outputs": [],
   "source": [
    "bsm = BotoSesManager(profile_name=\"bmt_app_dev_us_east_1\")"
   ]
  },
  {
   "cell_type": "markdown",
   "id": "747a6806-171a-4f13-a9e8-9b4daf4a7b56",
   "metadata": {},
   "source": [
    "### Create Glue ETL Script Artifact\n",
    "\n",
    "This code block will create the Glue ETL script artifact. Firstly, let's create the path to the script and display the content."
   ]
  },
  {
   "cell_type": "code",
   "execution_count": 26,
   "id": "50558a1b-5f2b-45c7-a652-e70c7d4aa7af",
   "metadata": {},
   "outputs": [
    {
     "name": "stdout",
     "output_type": "stream",
     "text": [
      "import sys\n",
      "from awsglue.transforms import *\n",
      "from awsglue.utils import getResolvedOptions\n",
      "from pyspark.context import SparkContext\n",
      "from awsglue.context import GlueContext\n",
      "from awsglue.job import Job\n",
      "\n",
      "sc = SparkContext.getOrCreate()\n",
      "glueContext = GlueContext(sc)\n",
      "spark = glueContext.spark_session\n",
      "job = Job(glueContext)\n",
      "args = getResolvedOptions(\n",
      "    sys.argv,\n",
      "    [\n",
      "        \"JOB_NAME\",\n",
      "    ],\n",
      ")\n",
      "job.commit()\n",
      "\n"
     ]
    }
   ],
   "source": [
    "dir_here = Path.cwd().absolute()\n",
    "dir_project_root = dir_here.parent\n",
    "path_glue_etl_script_1_py = dir_here.joinpath(\"glue_etl_script_1.py\")\n",
    "print(path_glue_etl_script_1_py.read_text())"
   ]
  },
  {
   "cell_type": "markdown",
   "id": "e6a4b15c-3922-40c3-af00-d2b144217aa7",
   "metadata": {},
   "source": [
    "Then we create a Glue ETL script artifact object. We need to specify ``aws_region``, ``s3_bucket``, ``s3_prefix`` and ``dynamodb_table_name`` to define the artifact store backend. It uses the [versioned](https://github.com/MacHu-GWU/versioned-project) Python library under the hood to manage the artifact content and its metadata. Also, you have to give it a unique ``artifact_name``, it will become part of the naming convention of artifact S3 location. And we pass the ``path_glue_etl_script`` to define where is the Glue ETL script located."
   ]
  },
  {
   "cell_type": "code",
   "execution_count": 27,
   "id": "683a3146-76cf-4d10-ab35-75b8fba17de6",
   "metadata": {},
   "outputs": [
    {
     "name": "stdout",
     "output_type": "stream",
     "text": [
      "aws_glue_artifact-project/examples/glue_etl_script_1.py\n"
     ]
    }
   ],
   "source": [
    "aws_region = bsm.aws_region\n",
    "s3_bucket = f\"{bsm.aws_account_id}-{bsm.aws_region}-artifacts\"\n",
    "s3_prefix = \"versioned-artifacts\"\n",
    "dynamodb_table_name = \"versioned-artifacts\"\n",
    "\n",
    "glue_etl_script_artifact = GlueETLScriptArtifact(\n",
    "    aws_region=aws_region,\n",
    "    s3_bucket=s3_bucket,\n",
    "    s3_prefix=s3_prefix,\n",
    "    dynamodb_table_name=dynamodb_table_name,\n",
    "    artifact_name=\"glue_etl_script_1\",\n",
    "    path_glue_etl_script=path_glue_etl_script_1_py,\n",
    ")\n",
    "print(glue_etl_script_artifact.path_glue_etl_script.relative_to(dir_project_root.parent))"
   ]
  },
  {
   "cell_type": "markdown",
   "id": "52c267b7-d880-4f86-a851-8ecbd8281097",
   "metadata": {},
   "source": [
    "``aws_glue_artifact`` uses AWS S3 to store the artifact files and AWS DynamoDB to store the artifact metadata. Yet, the S3 bucket and DynamoDB table are not created yet, so we have to call the ``.bootstrap`` method to create them."
   ]
  },
  {
   "cell_type": "code",
   "execution_count": 28,
   "id": "f583bd85-9502-4cb1-80e8-36669b97b050",
   "metadata": {},
   "outputs": [],
   "source": [
    "glue_etl_script_artifact.repo.purge_all()\n",
    "glue_etl_script_artifact.bootstrap(bsm=bsm)"
   ]
  },
  {
   "cell_type": "markdown",
   "id": "bcae434c-f3c4-4ad8-8b32-2fbf9fec4499",
   "metadata": {},
   "source": [
    "Now we can just call the ``put_artifact`` method to deploy the artifact as the ``LATEST``. It will return an ``Artifact`` object includes the metadata of the artifact."
   ]
  },
  {
   "cell_type": "code",
   "execution_count": 29,
   "id": "95fd51bb-e400-4f7b-b84f-b0657072b37a",
   "metadata": {},
   "outputs": [
    {
     "data": {
      "text/html": [
       "<pre style=\"white-space:pre;overflow-x:auto;line-height:normal;font-family:Menlo,'DejaVu Sans Mono',consolas,'Courier New',monospace\"><span style=\"color: #800080; text-decoration-color: #800080; font-weight: bold\">Artifact</span><span style=\"font-weight: bold\">(</span>\n",
       "    <span style=\"color: #808000; text-decoration-color: #808000\">name</span>=<span style=\"color: #008000; text-decoration-color: #008000\">'glue_etl_script_1'</span>,\n",
       "    <span style=\"color: #808000; text-decoration-color: #808000\">version</span>=<span style=\"color: #008000; text-decoration-color: #008000\">'LATEST'</span>,\n",
       "    <span style=\"color: #808000; text-decoration-color: #808000\">update_at</span>=<span style=\"color: #800080; text-decoration-color: #800080; font-weight: bold\">datetime</span><span style=\"color: #800080; text-decoration-color: #800080; font-weight: bold\">.datetime</span><span style=\"font-weight: bold\">(</span><span style=\"color: #008080; text-decoration-color: #008080; font-weight: bold\">2023</span>, <span style=\"color: #008080; text-decoration-color: #008080; font-weight: bold\">7</span>, <span style=\"color: #008080; text-decoration-color: #008080; font-weight: bold\">7</span>, <span style=\"color: #008080; text-decoration-color: #008080; font-weight: bold\">19</span>, <span style=\"color: #008080; text-decoration-color: #008080; font-weight: bold\">6</span>, <span style=\"color: #008080; text-decoration-color: #008080; font-weight: bold\">49</span>, <span style=\"color: #008080; text-decoration-color: #008080; font-weight: bold\">173116</span>, <span style=\"color: #808000; text-decoration-color: #808000\">tzinfo</span>=<span style=\"color: #800080; text-decoration-color: #800080\">datetime</span>.timezone.utc<span style=\"font-weight: bold\">)</span>,\n",
       "    <span style=\"color: #808000; text-decoration-color: #808000\">s3uri</span>=<span style=\"color: #008000; text-decoration-color: #008000\">'s3://878625312159-us-east-1-artifacts/versioned-artifacts/glue_etl_script_1/LATEST.py'</span>,\n",
       "    <span style=\"color: #808000; text-decoration-color: #808000\">sha256</span>=<span style=\"color: #008000; text-decoration-color: #008000\">'c16282cc0bb0ff08f1d20afec793f1649940cf96dfa7f19bbaa3585e89616719'</span>\n",
       "<span style=\"font-weight: bold\">)</span>\n",
       "</pre>\n"
      ],
      "text/plain": [
       "\u001b[1;35mArtifact\u001b[0m\u001b[1m(\u001b[0m\n",
       "    \u001b[33mname\u001b[0m=\u001b[32m'glue_etl_script_1'\u001b[0m,\n",
       "    \u001b[33mversion\u001b[0m=\u001b[32m'LATEST'\u001b[0m,\n",
       "    \u001b[33mupdate_at\u001b[0m=\u001b[1;35mdatetime\u001b[0m\u001b[1;35m.datetime\u001b[0m\u001b[1m(\u001b[0m\u001b[1;36m2023\u001b[0m, \u001b[1;36m7\u001b[0m, \u001b[1;36m7\u001b[0m, \u001b[1;36m19\u001b[0m, \u001b[1;36m6\u001b[0m, \u001b[1;36m49\u001b[0m, \u001b[1;36m173116\u001b[0m, \u001b[33mtzinfo\u001b[0m=\u001b[35mdatetime\u001b[0m.timezone.utc\u001b[1m)\u001b[0m,\n",
       "    \u001b[33ms3uri\u001b[0m=\u001b[32m's3://878625312159-us-east-1-artifacts/versioned-artifacts/glue_etl_script_1/LATEST.py'\u001b[0m,\n",
       "    \u001b[33msha256\u001b[0m=\u001b[32m'c16282cc0bb0ff08f1d20afec793f1649940cf96dfa7f19bbaa3585e89616719'\u001b[0m\n",
       "\u001b[1m)\u001b[0m\n"
      ]
     },
     "metadata": {},
     "output_type": "display_data"
    }
   ],
   "source": [
    "artifact = glue_etl_script_artifact.put_artifact(metadata={\"foo\": \"bar\"})\n",
    "rprint(artifact)"
   ]
  },
  {
   "cell_type": "markdown",
   "id": "9e6ce7b1-79ad-47cc-bade-0c862e3e0108",
   "metadata": {},
   "source": [
    "If you want to deploy your Glue Job via SDK, CloudFormation, CDK, Terraform, you need to pass the S3 uri of the artifact. You can use the ``get_artifact_s3path()`` method to get the latest artifact S3 uri."
   ]
  },
  {
   "cell_type": "code",
   "execution_count": 30,
   "id": "3e15d7f5-d5d3-460f-bb52-a22eec14ca31",
   "metadata": {},
   "outputs": [
    {
     "name": "stdout",
     "output_type": "stream",
     "text": [
      "s3://878625312159-us-east-1-artifacts/versioned-artifacts/glue_etl_script_1/LATEST.py\n"
     ]
    },
    {
     "data": {
      "text/html": [
       "<pre style=\"white-space:pre;overflow-x:auto;line-height:normal;font-family:Menlo,'DejaVu Sans Mono',consolas,'Courier New',monospace\"><span style=\"color: #0000ff; text-decoration-color: #0000ff; text-decoration: underline\">https://console.aws.amazon.com/s3/object/878625312159-us-east-1-artifacts?prefix=versioned-artifacts/glue_etl_scrip</span>\n",
       "<span style=\"color: #0000ff; text-decoration-color: #0000ff; text-decoration: underline\">t_1/LATEST.py</span>\n",
       "</pre>\n"
      ],
      "text/plain": [
       "\u001b[4;94mhttps://console.aws.amazon.com/s3/object/878625312159-us-east-1-artifacts?\u001b[0m\u001b[4;94mprefix\u001b[0m\u001b[4;94m=\u001b[0m\u001b[4;94mversioned\u001b[0m\u001b[4;94m-artifacts/glue_etl_scrip\u001b[0m\n",
       "\u001b[4;94mt_1/LATEST.py\u001b[0m\n"
      ]
     },
     "metadata": {},
     "output_type": "display_data"
    }
   ],
   "source": [
    "s3path = glue_etl_script_artifact.get_artifact_s3path()\n",
    "print(s3path.uri)\n",
    "rprint(s3path.console_url)"
   ]
  },
  {
   "cell_type": "markdown",
   "id": "a2190bb3-91bc-47fe-ba7b-593c7219de57",
   "metadata": {},
   "source": [
    "Once you made a release to production, you should create an immutable version of your artifact so you can roll back anytime. You can use ``publish_artifact_version()`` method to publish a new version from the Latest. The version is simply a immutable snapshot of your latest artifact."
   ]
  },
  {
   "cell_type": "code",
   "execution_count": 31,
   "id": "47a79302-85d7-4e0d-856d-684286cba4d6",
   "metadata": {},
   "outputs": [
    {
     "data": {
      "text/html": [
       "<pre style=\"white-space:pre;overflow-x:auto;line-height:normal;font-family:Menlo,'DejaVu Sans Mono',consolas,'Courier New',monospace\"><span style=\"color: #800080; text-decoration-color: #800080; font-weight: bold\">Artifact</span><span style=\"font-weight: bold\">(</span>\n",
       "    <span style=\"color: #808000; text-decoration-color: #808000\">name</span>=<span style=\"color: #008000; text-decoration-color: #008000\">'glue_etl_script_1'</span>,\n",
       "    <span style=\"color: #808000; text-decoration-color: #808000\">version</span>=<span style=\"color: #008000; text-decoration-color: #008000\">'1'</span>,\n",
       "    <span style=\"color: #808000; text-decoration-color: #808000\">update_at</span>=<span style=\"color: #800080; text-decoration-color: #800080; font-weight: bold\">datetime</span><span style=\"color: #800080; text-decoration-color: #800080; font-weight: bold\">.datetime</span><span style=\"font-weight: bold\">(</span><span style=\"color: #008080; text-decoration-color: #008080; font-weight: bold\">2023</span>, <span style=\"color: #008080; text-decoration-color: #008080; font-weight: bold\">7</span>, <span style=\"color: #008080; text-decoration-color: #008080; font-weight: bold\">7</span>, <span style=\"color: #008080; text-decoration-color: #008080; font-weight: bold\">19</span>, <span style=\"color: #008080; text-decoration-color: #008080; font-weight: bold\">6</span>, <span style=\"color: #008080; text-decoration-color: #008080; font-weight: bold\">49</span>, <span style=\"color: #008080; text-decoration-color: #008080; font-weight: bold\">610043</span>, <span style=\"color: #808000; text-decoration-color: #808000\">tzinfo</span>=<span style=\"color: #800080; text-decoration-color: #800080\">datetime</span>.timezone.utc<span style=\"font-weight: bold\">)</span>,\n",
       "    <span style=\"color: #808000; text-decoration-color: #808000\">s3uri</span>=<span style=\"color: #008000; text-decoration-color: #008000\">'s3://878625312159-us-east-1-artifacts/versioned-artifacts/glue_etl_script_1/000001.py'</span>,\n",
       "    <span style=\"color: #808000; text-decoration-color: #808000\">sha256</span>=<span style=\"color: #008000; text-decoration-color: #008000\">'c16282cc0bb0ff08f1d20afec793f1649940cf96dfa7f19bbaa3585e89616719'</span>\n",
       "<span style=\"font-weight: bold\">)</span>\n",
       "</pre>\n"
      ],
      "text/plain": [
       "\u001b[1;35mArtifact\u001b[0m\u001b[1m(\u001b[0m\n",
       "    \u001b[33mname\u001b[0m=\u001b[32m'glue_etl_script_1'\u001b[0m,\n",
       "    \u001b[33mversion\u001b[0m=\u001b[32m'1'\u001b[0m,\n",
       "    \u001b[33mupdate_at\u001b[0m=\u001b[1;35mdatetime\u001b[0m\u001b[1;35m.datetime\u001b[0m\u001b[1m(\u001b[0m\u001b[1;36m2023\u001b[0m, \u001b[1;36m7\u001b[0m, \u001b[1;36m7\u001b[0m, \u001b[1;36m19\u001b[0m, \u001b[1;36m6\u001b[0m, \u001b[1;36m49\u001b[0m, \u001b[1;36m610043\u001b[0m, \u001b[33mtzinfo\u001b[0m=\u001b[35mdatetime\u001b[0m.timezone.utc\u001b[1m)\u001b[0m,\n",
       "    \u001b[33ms3uri\u001b[0m=\u001b[32m's3://878625312159-us-east-1-artifacts/versioned-artifacts/glue_etl_script_1/000001.py'\u001b[0m,\n",
       "    \u001b[33msha256\u001b[0m=\u001b[32m'c16282cc0bb0ff08f1d20afec793f1649940cf96dfa7f19bbaa3585e89616719'\u001b[0m\n",
       "\u001b[1m)\u001b[0m\n"
      ]
     },
     "metadata": {},
     "output_type": "display_data"
    }
   ],
   "source": [
    "artifact = glue_etl_script_artifact.publish_artifact_version()\n",
    "rprint(artifact)"
   ]
  },
  {
   "cell_type": "markdown",
   "id": "b0ee0d6c-3253-4267-b0b0-cc47b3c1d34a",
   "metadata": {},
   "source": [
    "When you are doing roll back, you need to pass the S3 uri of the historical version of artifact. You can use the ``get_artifact_s3path(version=...)`` method to get the S3 uri."
   ]
  },
  {
   "cell_type": "code",
   "execution_count": 32,
   "id": "60ebcb70-320b-4f32-9276-1d3068b74cd3",
   "metadata": {},
   "outputs": [
    {
     "name": "stdout",
     "output_type": "stream",
     "text": [
      "s3://878625312159-us-east-1-artifacts/versioned-artifacts/glue_etl_script_1/000001.py\n"
     ]
    }
   ],
   "source": [
    "s3path = glue_etl_script_artifact.get_artifact_s3path(version=1)\n",
    "print(s3path.uri)"
   ]
  },
  {
   "cell_type": "markdown",
   "id": "d8d38a45-7af3-4940-8a26-c56b8c07a5ac",
   "metadata": {},
   "source": [
    "### Create Glue Python Library Artifact\n",
    "\n",
    "The Glue Python Library can simplify your code, improve code reusability, and enhance code maintainability. Additionally, it offloads complex logic from your ETL script, and you thoroughly test that logic in unit tests.\n",
    "\n",
    "Similar to how we create the ``GlueETLScriptArtifact``, we can create a ``GluePythonLibArtifact``. We have to specify the path to your Python library directory in ``dir_glue_python_lib``, and give a temporary folder ``dir_glue_build`` to build the artifact. Note that ``dir_glue_build`` will be clean up before the building, so please make sure it doesn't have any important files."
   ]
  },
  {
   "cell_type": "code",
   "execution_count": 33,
   "id": "6541ea40-cbb9-491d-9a57-30ecdd46ab4c",
   "metadata": {},
   "outputs": [
    {
     "name": "stdout",
     "output_type": "stream",
     "text": [
      "aws_glue_artifact-project/aws_glue_artifact\n",
      "aws_glue_artifact-project/build/glue\n"
     ]
    }
   ],
   "source": [
    "glue_python_lib_artifact = GluePythonLibArtifact(\n",
    "    aws_region=aws_region,\n",
    "    s3_bucket=s3_bucket,\n",
    "    s3_prefix=s3_prefix,\n",
    "    dynamodb_table_name=dynamodb_table_name,\n",
    "    artifact_name=\"glue_python_lib\",\n",
    "    dir_glue_python_lib=dir_project_root.joinpath(\"aws_glue_artifact\"),\n",
    "    dir_glue_build=dir_project_root.joinpath(\"build\", \"glue\"),\n",
    ")\n",
    "print(glue_python_lib_artifact.dir_glue_python_lib.relative_to(dir_project_root.parent))\n",
    "print(glue_python_lib_artifact.dir_glue_build.relative_to(dir_project_root.parent))"
   ]
  },
  {
   "cell_type": "markdown",
   "id": "14ae4a03-7ad3-4303-a435-2e289d38fc47",
   "metadata": {},
   "source": [
    "Similarly, you have to bootstrap it to ensure the S3 and DynamoDB backend are created. But if you use the same ``s3_bucket``, ``s3_prefix`` and ``dynamodb_table_name`` for all your glue projects, you can skip this step."
   ]
  },
  {
   "cell_type": "code",
   "execution_count": 34,
   "id": "27116077-ec15-4915-bf42-5d86f4768f04",
   "metadata": {},
   "outputs": [],
   "source": [
    "glue_python_lib_artifact.repo.bootstrap(bsm=bsm)"
   ]
  },
  {
   "cell_type": "markdown",
   "id": "35d3d591-569a-4638-a592-75c11c8c8f53",
   "metadata": {},
   "source": [
    "Similarly, we can just call ``put_artifact`` method to deploy the artifact as the ``LATEST``. It will automatically build your source code, zip it, and upload it to AWS S3."
   ]
  },
  {
   "cell_type": "code",
   "execution_count": 35,
   "id": "fad7c451-1dbe-49b1-b4da-25d38a187713",
   "metadata": {},
   "outputs": [
    {
     "data": {
      "text/html": [
       "<pre style=\"white-space:pre;overflow-x:auto;line-height:normal;font-family:Menlo,'DejaVu Sans Mono',consolas,'Courier New',monospace\"><span style=\"color: #800080; text-decoration-color: #800080; font-weight: bold\">Artifact</span><span style=\"font-weight: bold\">(</span>\n",
       "    <span style=\"color: #808000; text-decoration-color: #808000\">name</span>=<span style=\"color: #008000; text-decoration-color: #008000\">'glue_python_lib'</span>,\n",
       "    <span style=\"color: #808000; text-decoration-color: #808000\">version</span>=<span style=\"color: #008000; text-decoration-color: #008000\">'LATEST'</span>,\n",
       "    <span style=\"color: #808000; text-decoration-color: #808000\">update_at</span>=<span style=\"color: #800080; text-decoration-color: #800080; font-weight: bold\">datetime</span><span style=\"color: #800080; text-decoration-color: #800080; font-weight: bold\">.datetime</span><span style=\"font-weight: bold\">(</span><span style=\"color: #008080; text-decoration-color: #008080; font-weight: bold\">2023</span>, <span style=\"color: #008080; text-decoration-color: #008080; font-weight: bold\">7</span>, <span style=\"color: #008080; text-decoration-color: #008080; font-weight: bold\">7</span>, <span style=\"color: #008080; text-decoration-color: #008080; font-weight: bold\">19</span>, <span style=\"color: #008080; text-decoration-color: #008080; font-weight: bold\">6</span>, <span style=\"color: #008080; text-decoration-color: #008080; font-weight: bold\">51</span>, <span style=\"color: #008080; text-decoration-color: #008080; font-weight: bold\">47460</span>, <span style=\"color: #808000; text-decoration-color: #808000\">tzinfo</span>=<span style=\"color: #800080; text-decoration-color: #800080\">datetime</span>.timezone.utc<span style=\"font-weight: bold\">)</span>,\n",
       "    <span style=\"color: #808000; text-decoration-color: #808000\">s3uri</span>=<span style=\"color: #008000; text-decoration-color: #008000\">'s3://878625312159-us-east-1-artifacts/versioned-artifacts/glue_python_lib/LATEST.zip'</span>,\n",
       "    <span style=\"color: #808000; text-decoration-color: #808000\">sha256</span>=<span style=\"color: #008000; text-decoration-color: #008000\">'2b58497e023c497ce57d0fa3b58be93519bb9adae1b59752c9243dbe1986087c'</span>\n",
       "<span style=\"font-weight: bold\">)</span>\n",
       "</pre>\n"
      ],
      "text/plain": [
       "\u001b[1;35mArtifact\u001b[0m\u001b[1m(\u001b[0m\n",
       "    \u001b[33mname\u001b[0m=\u001b[32m'glue_python_lib'\u001b[0m,\n",
       "    \u001b[33mversion\u001b[0m=\u001b[32m'LATEST'\u001b[0m,\n",
       "    \u001b[33mupdate_at\u001b[0m=\u001b[1;35mdatetime\u001b[0m\u001b[1;35m.datetime\u001b[0m\u001b[1m(\u001b[0m\u001b[1;36m2023\u001b[0m, \u001b[1;36m7\u001b[0m, \u001b[1;36m7\u001b[0m, \u001b[1;36m19\u001b[0m, \u001b[1;36m6\u001b[0m, \u001b[1;36m51\u001b[0m, \u001b[1;36m47460\u001b[0m, \u001b[33mtzinfo\u001b[0m=\u001b[35mdatetime\u001b[0m.timezone.utc\u001b[1m)\u001b[0m,\n",
       "    \u001b[33ms3uri\u001b[0m=\u001b[32m's3://878625312159-us-east-1-artifacts/versioned-artifacts/glue_python_lib/LATEST.zip'\u001b[0m,\n",
       "    \u001b[33msha256\u001b[0m=\u001b[32m'2b58497e023c497ce57d0fa3b58be93519bb9adae1b59752c9243dbe1986087c'\u001b[0m\n",
       "\u001b[1m)\u001b[0m\n"
      ]
     },
     "metadata": {},
     "output_type": "display_data"
    }
   ],
   "source": [
    "artifact = glue_python_lib_artifact.put_artifact(metadata={\"foo\": \"bar\"})\n",
    "rprint(artifact)"
   ]
  },
  {
   "cell_type": "markdown",
   "id": "1a799b6f-df00-4f5e-9df2-3fe4ec206cad",
   "metadata": {},
   "source": [
    "Similarly, you can use the ``get_artifact_s3path()`` method to get the S3 uri of the artifact. You may need this in ``--extra-py-files`` parameter of your Glue Job."
   ]
  },
  {
   "cell_type": "code",
   "execution_count": 36,
   "id": "c9125aaa-a0e0-422e-a5d8-4dacdcb96e84",
   "metadata": {},
   "outputs": [
    {
     "name": "stdout",
     "output_type": "stream",
     "text": [
      "s3://878625312159-us-east-1-artifacts/versioned-artifacts/glue_python_lib/LATEST.zip\n"
     ]
    },
    {
     "data": {
      "text/html": [
       "<pre style=\"white-space:pre;overflow-x:auto;line-height:normal;font-family:Menlo,'DejaVu Sans Mono',consolas,'Courier New',monospace\"><span style=\"color: #0000ff; text-decoration-color: #0000ff; text-decoration: underline\">https://console.aws.amazon.com/s3/object/878625312159-us-east-1-artifacts?prefix=versioned-artifacts/glue_python_li</span>\n",
       "<span style=\"color: #0000ff; text-decoration-color: #0000ff; text-decoration: underline\">b/LATEST.zip</span>\n",
       "</pre>\n"
      ],
      "text/plain": [
       "\u001b[4;94mhttps://console.aws.amazon.com/s3/object/878625312159-us-east-1-artifacts?\u001b[0m\u001b[4;94mprefix\u001b[0m\u001b[4;94m=\u001b[0m\u001b[4;94mversioned\u001b[0m\u001b[4;94m-artifacts/glue_python_li\u001b[0m\n",
       "\u001b[4;94mb/LATEST.zip\u001b[0m\n"
      ]
     },
     "metadata": {},
     "output_type": "display_data"
    }
   ],
   "source": [
    "s3path = glue_python_lib_artifact.get_artifact_s3path()\n",
    "print(s3path.uri)\n",
    "rprint(s3path.console_url)"
   ]
  },
  {
   "cell_type": "markdown",
   "id": "8f251f44-aa03-4319-be88-377fc2ccda83",
   "metadata": {},
   "source": [
    "Similarly, once you made a release production, you should call the ``publish_artifact_version()`` to create a immutable snapshot of your artifact."
   ]
  },
  {
   "cell_type": "code",
   "execution_count": 37,
   "id": "95a1035a-9095-4f3e-bb1e-fa87e106be17",
   "metadata": {},
   "outputs": [
    {
     "data": {
      "text/html": [
       "<pre style=\"white-space:pre;overflow-x:auto;line-height:normal;font-family:Menlo,'DejaVu Sans Mono',consolas,'Courier New',monospace\"><span style=\"color: #800080; text-decoration-color: #800080; font-weight: bold\">Artifact</span><span style=\"font-weight: bold\">(</span>\n",
       "    <span style=\"color: #808000; text-decoration-color: #808000\">name</span>=<span style=\"color: #008000; text-decoration-color: #008000\">'glue_python_lib'</span>,\n",
       "    <span style=\"color: #808000; text-decoration-color: #808000\">version</span>=<span style=\"color: #008000; text-decoration-color: #008000\">'1'</span>,\n",
       "    <span style=\"color: #808000; text-decoration-color: #808000\">update_at</span>=<span style=\"color: #800080; text-decoration-color: #800080; font-weight: bold\">datetime</span><span style=\"color: #800080; text-decoration-color: #800080; font-weight: bold\">.datetime</span><span style=\"font-weight: bold\">(</span><span style=\"color: #008080; text-decoration-color: #008080; font-weight: bold\">2023</span>, <span style=\"color: #008080; text-decoration-color: #008080; font-weight: bold\">7</span>, <span style=\"color: #008080; text-decoration-color: #008080; font-weight: bold\">7</span>, <span style=\"color: #008080; text-decoration-color: #008080; font-weight: bold\">19</span>, <span style=\"color: #008080; text-decoration-color: #008080; font-weight: bold\">6</span>, <span style=\"color: #008080; text-decoration-color: #008080; font-weight: bold\">55</span>, <span style=\"color: #008080; text-decoration-color: #008080; font-weight: bold\">327894</span>, <span style=\"color: #808000; text-decoration-color: #808000\">tzinfo</span>=<span style=\"color: #800080; text-decoration-color: #800080\">datetime</span>.timezone.utc<span style=\"font-weight: bold\">)</span>,\n",
       "    <span style=\"color: #808000; text-decoration-color: #808000\">s3uri</span>=<span style=\"color: #008000; text-decoration-color: #008000\">'s3://878625312159-us-east-1-artifacts/versioned-artifacts/glue_python_lib/000001.zip'</span>,\n",
       "    <span style=\"color: #808000; text-decoration-color: #808000\">sha256</span>=<span style=\"color: #008000; text-decoration-color: #008000\">'2b58497e023c497ce57d0fa3b58be93519bb9adae1b59752c9243dbe1986087c'</span>\n",
       "<span style=\"font-weight: bold\">)</span>\n",
       "</pre>\n"
      ],
      "text/plain": [
       "\u001b[1;35mArtifact\u001b[0m\u001b[1m(\u001b[0m\n",
       "    \u001b[33mname\u001b[0m=\u001b[32m'glue_python_lib'\u001b[0m,\n",
       "    \u001b[33mversion\u001b[0m=\u001b[32m'1'\u001b[0m,\n",
       "    \u001b[33mupdate_at\u001b[0m=\u001b[1;35mdatetime\u001b[0m\u001b[1;35m.datetime\u001b[0m\u001b[1m(\u001b[0m\u001b[1;36m2023\u001b[0m, \u001b[1;36m7\u001b[0m, \u001b[1;36m7\u001b[0m, \u001b[1;36m19\u001b[0m, \u001b[1;36m6\u001b[0m, \u001b[1;36m55\u001b[0m, \u001b[1;36m327894\u001b[0m, \u001b[33mtzinfo\u001b[0m=\u001b[35mdatetime\u001b[0m.timezone.utc\u001b[1m)\u001b[0m,\n",
       "    \u001b[33ms3uri\u001b[0m=\u001b[32m's3://878625312159-us-east-1-artifacts/versioned-artifacts/glue_python_lib/000001.zip'\u001b[0m,\n",
       "    \u001b[33msha256\u001b[0m=\u001b[32m'2b58497e023c497ce57d0fa3b58be93519bb9adae1b59752c9243dbe1986087c'\u001b[0m\n",
       "\u001b[1m)\u001b[0m\n"
      ]
     },
     "metadata": {},
     "output_type": "display_data"
    }
   ],
   "source": [
    "artifact = glue_python_lib_artifact.publish_artifact_version()\n",
    "rprint(artifact)"
   ]
  },
  {
   "cell_type": "markdown",
   "id": "7342f462-7e4d-4e63-9d49-108ef77d6a2a",
   "metadata": {},
   "source": [
    "## Summary\n",
    "\n",
    "Now you get the idea of how to manage AWS Glue artifacts using ``aws_glue_artifact`` Python library. With versioned artifacts, you can easily enable the blue/green, canary deployment, and have the confidence to roll back when there's a failure in production. I highly suggest this pattern in production project.\n"
   ]
  },
  {
   "cell_type": "code",
   "execution_count": null,
   "id": "d1d9e614-0c4f-46e2-8ee6-5337a1b294c4",
   "metadata": {},
   "outputs": [],
   "source": []
  }
 ],
 "metadata": {
  "kernelspec": {
   "display_name": "Python 3 (ipykernel)",
   "language": "python",
   "name": "python3"
  },
  "language_info": {
   "codemirror_mode": {
    "name": "ipython",
    "version": 3
   },
   "file_extension": ".py",
   "mimetype": "text/x-python",
   "name": "python",
   "nbconvert_exporter": "python",
   "pygments_lexer": "ipython3",
   "version": "3.8.11"
  }
 },
 "nbformat": 4,
 "nbformat_minor": 5
}
